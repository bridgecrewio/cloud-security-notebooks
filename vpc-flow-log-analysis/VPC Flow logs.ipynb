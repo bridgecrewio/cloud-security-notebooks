{
 "cells": [
  {
   "cell_type": "markdown",
   "metadata": {},
   "source": [
    "# VPC Flow Logs report\n",
    "Goal: Compare configuration to traffic, harden security groups and NACL's by traffic."
   ]
  },
  {
   "cell_type": "markdown",
   "metadata": {},
   "source": [
    "# Setup"
   ]
  },
  {
   "cell_type": "markdown",
   "metadata": {},
   "source": [
    "## Parameters and AWS session configuration"
   ]
  },
  {
   "cell_type": "code",
   "execution_count": null,
   "metadata": {},
   "outputs": [],
   "source": [
    "from PIL import Image\n",
    "import io\n",
    "import os\n",
    "import time\n",
    "import io\n",
    "import numpy as np\n",
    "import boto3\n",
    "import os\n",
    "import json\n",
    "import pandas as pd\n",
    "import matplotlib.pyplot as plt\n",
    "import urllib.parse\n",
    "import datetime\n",
    "from boto3.session import Session\n",
    "import ipaddress\n",
    "import configparser\n",
    "pd.options.display.width = 0\n",
    "\n",
    "\n",
    "vpc_flow_log_bucket = os.environ['S3_FLOW_LOG_BUCKET'] if 'S3_FLOW_LOG_BUCKET' in os.environ else None\n",
    "vpc_flow_log_object_path = os.environ['S3_FLOW_LOG_PATH'] if 'S3_FLOW_LOG_BUCKET' in os.environ else None\n",
    "account_id = os.environ['ACCOUNT_ID'] if 'ACCOUNT_ID' in os.environ else None\n",
    "aws_profile = os.environ['AWS_PROFILE'] if 'AWS_PROFILE' in os.environ else None\n",
    "aws_default_region = os.environ['AWS_DEFAULT_REGION'] if 'AWS_DEFAULT_REGION' in os.environ else None\n",
    "aws_assume_role_profile = os.environ['ASSUME_RULE_PROFILE'] if 'ASSUME_RULE_PROFILE' in os.environ else None\n",
    "aws_role_session_name = os.environ['AWS_ROLE_SESSION_NAME'] if 'AWS_ROLE_SESSION_NAME' in os.environ else 'vpc-flow-log-notebook'\n",
    "aws_shared_cred_file = os.path.expanduser(os.environ['AWS_SHARED_CREDENTIALS_FILE']) if 'AWS_SHARED_CREDENTIALS_FILE' in os.environ\\\n",
    "else os.path.expanduser('~/.aws/credentials') \n",
    "\n",
    "if not account_id or not vpc_flow_log_bucket or not vpc_flow_log_object_path:\n",
    "    raise Exception(\"Not all required envrioment variables are set\")\n",
    "\n",
    "use_assume_rule = aws_assume_role_profile is not None\n",
    "\n",
    "if not aws_default_region:\n",
    "    os.environ['AWS_DEFAULT_REGION'] = 'us-west-2'\n",
    "\n",
    "if aws_profile:\n",
    "    session = boto3.Session(profile_name=aws_profile)\n",
    "else:\n",
    "    session = boto3.session.Session()\n",
    "\n",
    "if use_assume_rule:\n",
    "    config = configparser.ConfigParser()\n",
    "    config.read(aws_shared_cred_file)\n",
    "    role_name = config[aws_assume_role_profile]['role_arn']\n",
    "    external_id = config[aws_assume_role_profile]['external_id']\n",
    "    creds = session.client('sts').assume_role(RoleArn=role_name, RoleSessionName=aws_role_session_name,\\\n",
    "                                            ExternalId=external_id)['Credentials']\n",
    "    session = Session(aws_access_key_id=creds['AccessKeyId'],\n",
    "                      aws_secret_access_key=creds['SecretAccessKey'],\n",
    "                      aws_session_token=creds['SessionToken'])\n",
    "    regions = [region['RegionName'] for region in session.client('ec2').describe_regions()['Regions']]\n",
    "    print(\"Assumed the role: \" + role_name)"
   ]
  },
  {
   "cell_type": "code",
   "execution_count": null,
   "metadata": {},
   "outputs": [],
   "source": [
    "im = Image.open(\"./assets/vpc_dag.png\")\n",
    "im"
   ]
  },
  {
   "cell_type": "markdown",
   "metadata": {},
   "source": [
    "# Configuration research"
   ]
  },
  {
   "cell_type": "markdown",
   "metadata": {},
   "source": [
    "## Collect ENI Configuration Data\n",
    "Rationale: vpc flogs logs are not mapped to security groups"
   ]
  },
  {
   "cell_type": "code",
   "execution_count": null,
   "metadata": {},
   "outputs": [],
   "source": [
    "def get_eni_configuration():\n",
    "    result = {}\n",
    "    enis=[]\n",
    "    for region in regions:\n",
    "        region_name=region\n",
    "        enis=session.client('ec2',region_name=region_name).describe_network_interfaces(MaxResults=1000)['NetworkInterfaces']\n",
    "        for eni in enis:\n",
    "            eni_id = eni['NetworkInterfaceId']\n",
    "            for group in eni['Groups']:\n",
    "                sg_id = group['GroupId']\n",
    "                record_key = \"{}_{}\".format(eni_id,sg_id)\n",
    "                record=[eni_id,sg_id,eni['PrivateIpAddress'],group['GroupName'],eni['Description'],eni['AvailabilityZone'],eni['VpcId'],region_name]\n",
    "                result[record_key] = record\n",
    "\n",
    "    return pd.DataFrame.from_dict(result,orient='index', columns=['NetworkInterfaceId','GroupId','PrivateIpAddress','GroupName','eniDescription','AvailabilityZone','VpcId','Region']).sort_values(by=['NetworkInterfaceId'])"
   ]
  },
  {
   "cell_type": "code",
   "execution_count": null,
   "metadata": {},
   "outputs": [],
   "source": [
    "eni_conf_table = get_eni_configuration()"
   ]
  },
  {
   "cell_type": "markdown",
   "metadata": {},
   "source": [
    "## Collect Security Groups Configuration Data"
   ]
  },
  {
   "cell_type": "markdown",
   "metadata": {},
   "source": [
    "### Private IP classification"
   ]
  },
  {
   "cell_type": "code",
   "execution_count": null,
   "metadata": {},
   "outputs": [],
   "source": [
    "im = Image.open(\"./assets/private_ip_dag.png\")\n",
    "im"
   ]
  },
  {
   "cell_type": "code",
   "execution_count": null,
   "metadata": {},
   "outputs": [],
   "source": [
    "def is_in_private_subnet(ip,vpcs_cidrs):\n",
    "    for vpc_cidrs_value in vpcs_cidrs.values():\n",
    "        for subnet in vpc_cidrs_value:\n",
    "            ip_network = ipaddress.ip_network(ip)\n",
    "            subnet_network = ipaddress.ip_network(subnet)\n",
    "            if (ip_network.overlaps( subnet_network)) :\n",
    "                return True\n",
    "    return False\n",
    "\n",
    "def cidr_ranges(rule,vpcs_cidrs):\n",
    "    IpRanges = []\n",
    "    Ipv6Ranges = []\n",
    "    is_ip_private = True\n",
    "    is_ipv6_private = True\n",
    "    if len(rule['IpRanges'])>0:\n",
    "        for cidr in rule['IpRanges']:\n",
    "            cidr_ip = ipaddress.ip_network(cidr['CidrIp'])\n",
    "            is_ip_private = cidr_ip.is_private\n",
    "            if cidr_ip == ipaddress.ip_network('0.0.0.0/0'):\n",
    "                is_ip_private = False\n",
    "            elif is_in_private_subnet(cidr_ip,vpcs_cidrs):\n",
    "                is_ip_private = True\n",
    "\n",
    "            IpRanges.append(cidr_ip)    \n",
    "    if len(rule['Ipv6Ranges'])>0:\n",
    "        for cidr in rule['Ipv6Ranges']:\n",
    "            cidr_ip = ipaddress.ip_network(cidr['CidrIpv6'])\n",
    "            Ipv6Ranges.append(cidr_ip) \n",
    "            is_ipv6_private = cidr_ip.is_private\n",
    "    return IpRanges, Ipv6Ranges, is_ip_private, is_ipv6_private"
   ]
  },
  {
   "cell_type": "code",
   "execution_count": null,
   "metadata": {},
   "outputs": [],
   "source": [
    "def add_sg_configuration(eni_conf_table):\n",
    "    eni_conf_dict = eni_conf_table.to_dict('r')\n",
    "    result = {}\n",
    "    vpcs_cidrs = get_vpc_cidrs(eni_conf_table)\n",
    "    for eni_conf in eni_conf_dict:\n",
    "        try:\n",
    "            sg_details = session.resource('ec2',region_name=eni_conf['Region']).SecurityGroup(eni_conf['GroupId'])\n",
    "            for rule in sg_details.ip_permissions:\n",
    "                internal = False\n",
    "                sg_pairs = []\n",
    "                if 'IpProtocol' in rule and rule['IpProtocol']=='-1':\n",
    "                    allowed_port = 'all'\n",
    "                if 'FromPort' in rule:\n",
    "                    allowed_port = rule['FromPort']\n",
    "                if len(rule['UserIdGroupPairs'])>0:\n",
    "                    internal = True\n",
    "                    for pair in rule['UserIdGroupPairs']:\n",
    "                        sg_pairs.append(pair['GroupId'])\n",
    "                        if pair['UserId'] != account_id:\n",
    "                            internal = False\n",
    "                IpRanges, Ipv6Ranges, is_ip_private, is_ipv6_private = cidr_ranges(rule,vpcs_cidrs)\n",
    "\n",
    "                record_key = \"{}_{}_{}\".format(eni_conf['NetworkInterfaceId'],eni_conf['GroupId'],allowed_port)\n",
    "                record=[eni_conf['NetworkInterfaceId'],eni_conf['GroupId'],allowed_port,internal,eni_conf['PrivateIpAddress'],eni_conf['GroupName'],eni_conf['eniDescription'],eni_conf['AvailabilityZone'],eni_conf['VpcId'],eni_conf['Region'],rule['IpProtocol'],IpRanges,Ipv6Ranges,is_ip_private, is_ipv6_private,sg_pairs]\n",
    "                result[record_key] = record\n",
    "        except Exception:\n",
    "            print(eni_conf['Region'],eni_conf['GroupId'] , Exception)\n",
    "            continue\n",
    "    return pd.DataFrame.from_dict(result,orient='index', columns=['NetworkInterfaceId','GroupId','Port','IsLimitedToAccount','PrivateIpAddress','GroupName','eniDescription','AvailabilityZone','VpcId','Region','IpProtocol','IpRanges','Ipv6Ranges','is_ip_private', 'is_ipv6_private','sg_pairs']).sort_values(by=['NetworkInterfaceId'])        \n",
    "\n",
    "def get_vpc_cidrs(eni_conf_table):\n",
    "    vpc_region_dict = eni_conf_table[['VpcId','Region']].to_dict('r')\n",
    "    vpc_region_dict = [dict(tupleized) for tupleized in set(tuple(item.items()) for item in vpc_region_dict)]\n",
    "    vpc_to_cidrs_dict = {}\n",
    "    for vpc_tuple in vpc_region_dict:\n",
    "        vpc_cidrs = []\n",
    "        vpc_id = vpc_tuple['VpcId']\n",
    "        vpc_details = session.resource('ec2',region_name=vpc_tuple['Region']).Vpc(vpc_id)\n",
    "        vpc_cidrs.append(vpc_details.cidr_block)\n",
    "        for cidr_association in vpc_details.cidr_block_association_set:\n",
    "            if 'CidrBlock' in cidr_association:\n",
    "                vpc_cidrs.append(cidr_association['CidrBlock'])\n",
    "        vpc_cidrs = list(set(vpc_cidrs))\n",
    "        vpc_to_cidrs_dict[vpc_id] = vpc_cidrs\n",
    "    return vpc_to_cidrs_dict"
   ]
  },
  {
   "cell_type": "markdown",
   "metadata": {},
   "source": [
    "### List network interface and security groups Details"
   ]
  },
  {
   "cell_type": "code",
   "execution_count": null,
   "metadata": {
    "scrolled": true
   },
   "outputs": [],
   "source": [
    "eni_sg_conf=add_sg_configuration(eni_conf_table)   "
   ]
  },
  {
   "cell_type": "markdown",
   "metadata": {},
   "source": [
    "#### Enriched Data"
   ]
  },
  {
   "cell_type": "code",
   "execution_count": null,
   "metadata": {
    "scrolled": true
   },
   "outputs": [],
   "source": [
    "eni_sg_conf.sort_values(by=['NetworkInterfaceId'])"
   ]
  },
  {
   "cell_type": "markdown",
   "metadata": {},
   "source": [
    "### List public facing security groups"
   ]
  },
  {
   "cell_type": "code",
   "execution_count": null,
   "metadata": {},
   "outputs": [],
   "source": [
    "public_enis = eni_sg_conf.loc[(eni_sg_conf['is_ip_private']==False)& ( (eni_sg_conf['IsLimitedToAccount']==False))]\n",
    "pd.set_option('display.max_rows', public_enis.shape[0]+1)\n",
    "public_enis.head()"
   ]
  },
  {
   "cell_type": "code",
   "execution_count": null,
   "metadata": {},
   "outputs": [],
   "source": [
    "unique_public_enis = list(set(public_enis['NetworkInterfaceId'].tolist()))\n",
    "unique_public_ports = list(set(public_enis['Port'].tolist()))\n",
    "unique_public_ip_ranges = public_enis['IpRanges'].tolist()\n",
    "unique_public_ipv6_ranges = public_enis['Ipv6Ranges'].tolist()"
   ]
  },
  {
   "cell_type": "code",
   "execution_count": null,
   "metadata": {},
   "outputs": [],
   "source": [
    "public_enis_as_string = \",\".join(\"'\" + x + \"'\" for x in unique_public_enis)\n",
    "public_ports_as_string = ','.join(\"'\" + str(x) + \"'\" for x in unique_public_ports)\n",
    "\n",
    "print(\"Public facing ENIs: {}\".format(public_enis_as_string))\n",
    "print(\"Public facing ports: {}\".format(public_ports_as_string))"
   ]
  },
  {
   "cell_type": "markdown",
   "metadata": {},
   "source": [
    "# Flow research"
   ]
  },
  {
   "cell_type": "markdown",
   "metadata": {},
   "source": [
    "## Reduce VPC Data\n",
    "1. select fields: account, interfaceid, destinationaddress, destinationport,protocol,action,sourceaddress, sourceport     (remove columns:  starttime,endtime,numpackets,numbytes,logstatus) \n",
    "2. remove duplicated rows  (we ignore a lot of columns so it should be significant)"
   ]
  },
  {
   "cell_type": "markdown",
   "metadata": {},
   "source": [
    "## Athena configuration"
   ]
  },
  {
   "cell_type": "code",
   "execution_count": null,
   "metadata": {},
   "outputs": [],
   "source": [
    "session = boto3.Session(profile_name=aws_profile)\n",
    "s3_input = 's3://{}/{}'.format(vpc_flow_log_bucket,vpc_flow_log_object_path)\n",
    "s3_output_bucket_name = '<output_bucket_name>' \n",
    "s3_output_path = 's3://{}'.format(s3_output_bucket_name)\n",
    "database = '<database_name>'\n",
    "table = '<table_name>'\n",
    "view_name = 'port_address_view'"
   ]
  },
  {
   "cell_type": "code",
   "execution_count": null,
   "metadata": {},
   "outputs": [],
   "source": [
    "#Function for executing athena queries\n",
    "def run_query(session,query, s3_output, database=None):\n",
    "    print(\"Executing query: {}\".format(query))\n",
    "    client = session.client('athena')\n",
    "    if (database is None):\n",
    "        response = client.start_query_execution(\n",
    "        QueryString=query,\n",
    "        ResultConfiguration={\n",
    "            'OutputLocation': s3_output,\n",
    "            }\n",
    "        )\n",
    "    else:\n",
    "        response = client.start_query_execution(\n",
    "            QueryString=query,\n",
    "            QueryExecutionContext={\n",
    "                'Database': database\n",
    "                },\n",
    "            ResultConfiguration={\n",
    "                'OutputLocation': s3_output,\n",
    "                }\n",
    "            )\n",
    "        print('Execution ID: ' + response['QueryExecutionId'])\n",
    "    return response\n",
    "\n",
    "def obtain_data(session, filename):\n",
    "        try:\n",
    "            objectKey = filename + '.csv'\n",
    "            print (objectKey)\n",
    "            resource = session.resource('s3')\n",
    "            \n",
    "            response = resource \\\n",
    "            .Bucket(s3_output_bucket_name) \\\n",
    "            .Object(key= objectKey) \\\n",
    "            .get()\n",
    "\n",
    "            return pd.read_csv(io.BytesIO(response['Body'].read()), encoding='utf8')   \n",
    "        except Exception as e:\n",
    "            print(e)\n",
    " \n",
    "        \n",
    "\n",
    "\n",
    "# Create Athena VPC flow log database and table definition\n",
    "create_database = \"CREATE DATABASE IF NOT EXISTS %s;\" % (database)\n",
    "\n",
    "# Create VPC flow log table in the created database\n",
    "create_table = \\\n",
    "    \"\"\"CREATE EXTERNAL TABLE IF NOT EXISTS %s.%s (\n",
    "  `version` int,\n",
    "  `account` string,\n",
    "  `interfaceid` string,\n",
    "  `sourceaddress` string,\n",
    "  `destinationaddress` string,\n",
    "  `sourceport` int,\n",
    "  `destinationport` string,\n",
    "  `protocol` int,\n",
    "  `numpackets` int,\n",
    "  `numbytes` bigint,\n",
    "  `starttime` int,\n",
    "  `endtime` int,\n",
    "  `action` string,\n",
    "  `logstatus` string\n",
    "     )\n",
    "     ROW FORMAT DELIMITED\n",
    "     FIELDS TERMINATED BY ' '\n",
    "     LOCATION '%s'\n",
    "     TBLPROPERTIES (\"skip.header.line.count\"=\"1\")\"\"\" % ( database, table, s3_input )\n",
    "\n",
    "# Create the view (interfaceid, destinationport, destinationaddress, numbytes) from the VPC flow log table\n",
    "create_destip_destports_view = \\\n",
    "\"\"\"\n",
    "CREATE OR REPLACE VIEW %s AS \n",
    "SELECT interfaceid, destinationport, destinationaddress, numbytes\n",
    "FROM %s\n",
    "WHERE action != 'REJECTED' AND contains (ARRAY[%s], interfaceid) AND contains (ARRAY[%s], destinationport)\n",
    "GROUP BY interfaceid, destinationport,destinationaddress,numbytes\"\"\" % (view_name, table, public_enis_as_string, public_ports_as_string)"
   ]
  },
  {
   "cell_type": "markdown",
   "metadata": {},
   "source": [
    "## Create Athena database, table, and view (ENI, destination port, destination address, numbytes) from VPC flow logs"
   ]
  },
  {
   "cell_type": "code",
   "execution_count": null,
   "metadata": {},
   "outputs": [],
   "source": [
    "# creating the database if not exists\n",
    "create_db_result = run_query(session,create_database, s3_output_path)\n",
    "\n",
    "# Create the flowlogs table combining all collected data from the bucket\n",
    "create_flow_logs_table = run_query(session,create_table, s3_output_path, database)\n",
    "\n",
    "# Create flowlog view to query from\n",
    "create_port_address_view = run_query(session,create_destip_destports_view, s3_output_path, database)\n",
    "print(create_port_address_view)\n",
    "\n",
    "time.sleep(30)"
   ]
  },
  {
   "cell_type": "markdown",
   "metadata": {},
   "source": [
    "## Query the view with AWS Athena and obtain the results from S3 bucket"
   ]
  },
  {
   "cell_type": "code",
   "execution_count": null,
   "metadata": {
    "scrolled": true
   },
   "outputs": [],
   "source": [
    "result_file = run_query(session,\"SELECT * FROM test_vpc_flowlogs_database.port_address_view\",s3_output_path, database)\n",
    "time.sleep(700) #Set according to expected query time, for ~180GB it's ~350 seconds of query time\n",
    "file_name = result_file['QueryExecutionId']\n",
    "destport_destaddress_table = obtain_data(session, file_name)\n",
    "destport_destaddress_table.head()"
   ]
  },
  {
   "cell_type": "markdown",
   "metadata": {},
   "source": [
    "## Flatten CIDRs of ENI records"
   ]
  },
  {
   "cell_type": "code",
   "execution_count": null,
   "metadata": {},
   "outputs": [],
   "source": [
    "public_enis_flat_cidrs = public_enis.explode('IpRanges').reset_index()\n",
    "public_enis_flat_cidrs['eni_sg_port_ipranges'] = public_enis_flat_cidrs['index'] +'_'+ public_enis_flat_cidrs['IpRanges'].map(str)\n",
    "public_enis_flat_cidrs = public_enis_flat_cidrs.set_index('eni_sg_port_ipranges').drop('index',axis=1)"
   ]
  },
  {
   "cell_type": "code",
   "execution_count": null,
   "metadata": {},
   "outputs": [],
   "source": [
    "public_enis_flat_cidrs.head()"
   ]
  },
  {
   "cell_type": "code",
   "execution_count": null,
   "metadata": {},
   "outputs": [],
   "source": [
    "from netaddr import IPNetwork, IPAddress"
   ]
  },
  {
   "cell_type": "code",
   "execution_count": null,
   "metadata": {},
   "outputs": [],
   "source": [
    "total_traffic_bytes = 0\n",
    "used_enis = []\n",
    "\n",
    "def compute_cidrs_in_use(eni_id,ipv4_range,ipv6_range):\n",
    "    bytes_per_cidr = 0\n",
    "    cidr_in_use = False\n",
    "    for _, row in destport_destaddress_table[destport_destaddress_table['interfaceid'] == eni_id].iterrows():\n",
    "        ip = ipaddress.ip_address(row['destinationaddress'])\n",
    "        port = int(row['destinationport'])\n",
    "        num_bytes = int(row['numbytes'])\n",
    "        if ipv4_range:\n",
    "            if ip.version == 4 and ip in ipv4_range and port in unique_public_ports:\n",
    "                cidr_in_use = True\n",
    "                bytes_per_cidr += num_bytes\n",
    "        if ipv6_range:\n",
    "            if ip.version == 6 and ip in ipv6_range and port in unique_public_ports:\n",
    "                cidr_in_use = True\n",
    "                bytes_per_cidr += num_bytes\n",
    "    return cidr_in_use,bytes_per_cidr\n",
    "\n",
    "def verify_address_port_in_use(eni_record):\n",
    "    global total_traffic_bytes\n",
    "    global used_enis\n",
    "    ipv4_range = eni_record['IpRanges']\n",
    "    ipv6_range = eni_record['Ipv6Ranges']\n",
    "    eni_id = eni_record['NetworkInterfaceId']\n",
    "    print(\"Verifying ENI {}, CIDR {}\".format(eni_id,ipv4_range))\n",
    "    print(\"Total Bytes collected\" , total_traffic_bytes)\n",
    "    cidr_in_use,bytes_per_cidr = compute_cidrs_in_use(eni_id,ipv4_range,ipv6_range)\n",
    "    print(\"Is in use: {}, Number of Bytes {}\".format(cidr_in_use,bytes_per_cidr))\n",
    "    if cidr_in_use:\n",
    "        used_enis.append(True)\n",
    "        total_traffic_bytes += bytes_per_cidr\n",
    "        print(\"Total Bytes collected\" , total_traffic_bytes)\n",
    "    else:\n",
    "        used_enis.append(False)"
   ]
  },
  {
   "cell_type": "code",
   "execution_count": null,
   "metadata": {
    "scrolled": true
   },
   "outputs": [],
   "source": [
    "print(\"Verifying {} ENIs\".format(len(public_enis_flat_cidrs)))\n",
    "public_enis_flat_cidrs.apply(lambda x: verify_address_port_in_use(x),axis=1)\n",
    "public_enis_flat_cidrs['In Use'] = used_enis\n",
    "public_enis_flat_cidrs.head()"
   ]
  },
  {
   "cell_type": "markdown",
   "metadata": {},
   "source": [
    "## Summary"
   ]
  },
  {
   "cell_type": "code",
   "execution_count": null,
   "metadata": {},
   "outputs": [],
   "source": [
    "enis_merge_flow_log = pd.merge(destport_destaddress_table, public_enis, left_on= ['interfaceid', 'destinationport'],\n",
    "                   right_on= ['NetworkInterfaceId', 'Port'], \n",
    "                   how = 'outer')"
   ]
  },
  {
   "cell_type": "code",
   "execution_count": null,
   "metadata": {},
   "outputs": [],
   "source": [
    "print(\"Open ports that still in use: {} results found\".format(len(public_enis_flat_cidrs[public_enis_flat_cidrs['In Use'] == True])))\n",
    "print(\"Open ports that are not in use: {} results found\".format(len(public_enis_flat_cidrs[public_enis_flat_cidrs['In Use'] == False])))\n",
    "print(\"Total bytes transffered in used ports {}\".format(total_traffic_bytes))\n",
    "\n",
    "were_in_use = enis_merge_flow_log[['interfaceid', 'destinationport', 'GroupId']]\n",
    "were_in_use = were_in_use.where(were_in_use['GroupId'].isnull()).dropna(how='all')\n",
    "were_in_use_count = len(were_in_use)\n",
    "\n",
    "print (\"ENI and ports that were in use but not anymore (closed): {} results found\".format(were_in_use_count))"
   ]
  },
  {
   "cell_type": "markdown",
   "metadata": {},
   "source": [
    "# Past used ENIs and ports\n",
    "There is evidence in the VPC flow logs that those ENIs and Ports had active traffic. Those ENI's and ports are **not active** in current configuration"
   ]
  },
  {
   "cell_type": "code",
   "execution_count": null,
   "metadata": {},
   "outputs": [],
   "source": [
    "were_in_use"
   ]
  },
  {
   "cell_type": "markdown",
   "metadata": {},
   "source": [
    "# Used ports\n",
    "There is evidence in the VPC flow logs that those ENIs and Ports had active traffic. Those ENI's and ports are  **active** in current configuration"
   ]
  },
  {
   "cell_type": "code",
   "execution_count": null,
   "metadata": {
    "scrolled": true
   },
   "outputs": [],
   "source": [
    "public_enis_flat_cidrs[public_enis_flat_cidrs['In Use']==True][['NetworkInterfaceId','Port','IpRanges','Ipv6Ranges','In Use']]"
   ]
  }
 ],
 "metadata": {
  "kernelspec": {
   "display_name": "Python 3",
   "language": "python",
   "name": "python3"
  },
  "language_info": {
   "codemirror_mode": {
    "name": "ipython",
    "version": 3
   },
   "file_extension": ".py",
   "mimetype": "text/x-python",
   "name": "python",
   "nbconvert_exporter": "python",
   "pygments_lexer": "ipython3",
   "version": "3.7.3"
  }
 },
 "nbformat": 4,
 "nbformat_minor": 4
}
